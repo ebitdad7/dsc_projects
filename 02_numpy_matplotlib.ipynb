{
 "cells": [
  {
   "cell_type": "markdown",
   "metadata": {},
   "source": [
    "# Introduction to numpy and matplotlib\n",
    "You should already be familiar with the standard python types such as lists and dictionaries.\n",
    "In this notebook we will demonstrate how numpy provides arrays (matrices) and convenient ways to perform operations on them."
   ]
  },
  {
   "cell_type": "markdown",
   "metadata": {},
   "source": [
    "Recall the equation for a straight line $y = mx+c$, where $m$ denotes the slope and $c$ the intercept. Note, as you come to encounter linear regression, where $m$ and $c$ are unknown parameters to be determined from data, you will see $m$ typically replaced with $\\beta_1$ and $c$ with $\\beta_0$, where $\\beta_i$ denotes a parameter to be determined. Thus the straight line formula will be written $y = \\beta_1x + \\beta_0$ or $y = \\beta_0 + \\beta_1x$. These two forms, of course, being mathematically equivalent."
   ]
  },
  {
   "cell_type": "markdown",
   "metadata": {},
   "source": [
    "The basic task we set ourselves here is to take an input sequence of numbers (multiple $x$ values) and create an output sequence (multiple $y$ values). We'll take the desired slope of the line to be 5 and the intercept -1."
   ]
  },
  {
   "cell_type": "code",
   "execution_count": 1,
   "metadata": {},
   "outputs": [],
   "source": [
    "m = 5\n",
    "c = -1\n",
    "x = [0, 1, 2, 3, 4, 5, 6]"
   ]
  },
  {
   "cell_type": "markdown",
   "metadata": {},
   "source": [
    "Here we hold our multiple $x$ values in a python list."
   ]
  },
  {
   "cell_type": "code",
   "execution_count": 2,
   "metadata": {},
   "outputs": [],
   "source": [
    "# task: use a list comprehension to create the output y values\n",
    "# note how we can't simply write y = m*x + c\n",
    "# one line of code here:\n",
    "y = [m*x_n + c for x_n in x]"
   ]
  },
  {
   "cell_type": "code",
   "execution_count": 3,
   "metadata": {},
   "outputs": [
    {
     "name": "stdout",
     "output_type": "stream",
     "text": [
      "[-1, 4, 9, 14, 19, 24, 29]\n"
     ]
    }
   ],
   "source": [
    "print(y)"
   ]
  },
  {
   "cell_type": "markdown",
   "metadata": {},
   "source": [
    "Although list comprehensions are very \"pythonic\", they are more cumbersome than we'd like for performing lots of numeric, or matrix, operations."
   ]
  },
  {
   "cell_type": "markdown",
   "metadata": {},
   "source": [
    "## numpy\n",
    "Let's now perform the above using numpy."
   ]
  },
  {
   "cell_type": "code",
   "execution_count": 4,
   "metadata": {},
   "outputs": [],
   "source": [
    "# task: import numpy\n",
    "# one line of code here:\n",
    "import numpy as np"
   ]
  },
  {
   "cell_type": "code",
   "execution_count": 5,
   "metadata": {},
   "outputs": [],
   "source": [
    "X = np.array(x)\n",
    "Y = m*X + c"
   ]
  },
  {
   "cell_type": "code",
   "execution_count": 6,
   "metadata": {},
   "outputs": [
    {
     "name": "stdout",
     "output_type": "stream",
     "text": [
      "[-1  4  9 14 19 24 29]\n"
     ]
    }
   ],
   "source": [
    "print(Y)"
   ]
  },
  {
   "cell_type": "markdown",
   "metadata": {},
   "source": [
    "Notice how we can now write the code in a much more mathematical way."
   ]
  },
  {
   "cell_type": "markdown",
   "metadata": {},
   "source": [
    "## matplotlib\n",
    "Now we have our matching input and output values, X and Y, wouldn't it be nice to see them in a graph. Although the plot function is very useful for sequences, in our case here we have a sequence of points that all lie on a straight line. This means it will be impossible in a plain line plot to tell whether there is one straight line between two endpoints, or a series of points. It can be more informative to show the individual points, and so here we will use a scatter plot rather than a line plot."
   ]
  },
  {
   "cell_type": "code",
   "execution_count": 8,
   "metadata": {},
   "outputs": [],
   "source": [
    "import matplotlib.pyplot as plt"
   ]
  },
  {
   "cell_type": "code",
   "execution_count": 9,
   "metadata": {},
   "outputs": [
    {
     "data": {
      "text/plain": [
       "<matplotlib.collections.PathCollection at 0x11c7bb0b8>"
      ]
     },
     "execution_count": 9,
     "metadata": {},
     "output_type": "execute_result"
    },
    {
     "data": {
      "image/png": "[encoded data removed]",
      "text/plain": [
       "<Figure size 432x288 with 1 Axes>"
      ]
     },
     "metadata": {
      "needs_background": "light"
     },
     "output_type": "display_data"
    }
   ],
   "source": [
    "# task: create a scatter plot of X and Y\n",
    "# Hint: either refer to matplotlib documentation or, after importing pyplot, use Jupyter's autocompletion\n",
    "# suggestions to find the relevant scatter plot function\n",
    "# one line of code here:\n",
    "plt.scatter(X,Y)"
   ]
  },
  {
   "cell_type": "markdown",
   "metadata": {},
   "source": [
    "# Conclusion\n",
    "Great! In these few simple examples, you've already come a long way. You're using a notebook to develop a sequence of data manipulations, which can include descriptive, formatted text. Although we won't be using numpy directly in this short course, we've seen how it provides data types and operations that allow us to succinctly perform data operations. This kind of convenience and succinctness is what makes python and its ecosystem a great choice for data science. Pandas, which we'll come to shortly, is built on top of numpy. We've also seen how we can add visualizations of our data to our notebook."
   ]
  },
  {
   "cell_type": "code",
   "execution_count": null,
   "metadata": {},
   "outputs": [],
   "source": []
  }
 ],
 "metadata": {
  "kernelspec": {
   "display_name": "Python 3",
   "language": "python",
   "name": "python3"
  },
  "language_info": {
   "codemirror_mode": {
    "name": "ipython",
    "version": 3
   },
   "file_extension": ".py",
   "mimetype": "text/x-python",
   "name": "python",
   "nbconvert_exporter": "python",
   "pygments_lexer": "ipython3",
   "version": "3.7.3"
  }
 },
 "nbformat": 4,
 "nbformat_minor": 2
}
