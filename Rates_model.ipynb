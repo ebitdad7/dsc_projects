{
 "cells": [
  {
   "cell_type": "code",
   "execution_count": 17,
   "metadata": {},
   "outputs": [],
   "source": [
    "import numpy as np \n",
    "import pandas as pd\n",
    "import matplotlib.pyplot as plt\n",
    "import seaborn as sns\n",
    "\n",
    "\n",
    "from sklearn.model_selection import train_test_split\n",
    "\n",
    "sns.set_style(\"darkgrid\")"
   ]
  },
  {
   "cell_type": "code",
   "execution_count": 23,
   "metadata": {},
   "outputs": [
    {
     "data": {
      "text/html": [
       "<div>\n",
       "<style scoped>\n",
       "    .dataframe tbody tr th:only-of-type {\n",
       "        vertical-align: middle;\n",
       "    }\n",
       "\n",
       "    .dataframe tbody tr th {\n",
       "        vertical-align: top;\n",
       "    }\n",
       "\n",
       "    .dataframe thead th {\n",
       "        text-align: right;\n",
       "    }\n",
       "</style>\n",
       "<table border=\"1\" class=\"dataframe\">\n",
       "  <thead>\n",
       "    <tr style=\"text-align: right;\">\n",
       "      <th></th>\n",
       "      <th>DATE</th>\n",
       "      <th>AUSTRALIA</th>\n",
       "      <th>EURO AREA</th>\n",
       "      <th>UNITED KINGDOM</th>\n",
       "      <th>CANADA</th>\n",
       "      <th>CHINA</th>\n",
       "      <th>INDIA</th>\n",
       "      <th>MEXICO</th>\n",
       "      <th>JAPAN</th>\n",
       "      <th>SWITZERLAND</th>\n",
       "    </tr>\n",
       "  </thead>\n",
       "  <tbody>\n",
       "    <tr>\n",
       "      <th>0</th>\n",
       "      <td>2000-01-03</td>\n",
       "      <td>1.5172</td>\n",
       "      <td>0.9847</td>\n",
       "      <td>0.6146</td>\n",
       "      <td>1.4465</td>\n",
       "      <td>8.2798</td>\n",
       "      <td>43.55</td>\n",
       "      <td>9.4015</td>\n",
       "      <td>101.7</td>\n",
       "      <td>1.5808</td>\n",
       "    </tr>\n",
       "    <tr>\n",
       "      <th>1</th>\n",
       "      <td>2000-01-04</td>\n",
       "      <td>1.5239</td>\n",
       "      <td>0.97</td>\n",
       "      <td>0.6109</td>\n",
       "      <td>1.4518</td>\n",
       "      <td>8.2799</td>\n",
       "      <td>43.55</td>\n",
       "      <td>9.457</td>\n",
       "      <td>103.09</td>\n",
       "      <td>1.5565</td>\n",
       "    </tr>\n",
       "    <tr>\n",
       "      <th>2</th>\n",
       "      <td>2000-01-05</td>\n",
       "      <td>1.5267</td>\n",
       "      <td>0.9676</td>\n",
       "      <td>0.6092</td>\n",
       "      <td>1.4518</td>\n",
       "      <td>8.2798</td>\n",
       "      <td>43.55</td>\n",
       "      <td>9.535</td>\n",
       "      <td>103.77</td>\n",
       "      <td>1.5526</td>\n",
       "    </tr>\n",
       "    <tr>\n",
       "      <th>3</th>\n",
       "      <td>2000-01-06</td>\n",
       "      <td>1.5291</td>\n",
       "      <td>0.9686</td>\n",
       "      <td>0.607</td>\n",
       "      <td>1.4571</td>\n",
       "      <td>8.2797</td>\n",
       "      <td>43.55</td>\n",
       "      <td>9.567</td>\n",
       "      <td>105.19</td>\n",
       "      <td>1.554</td>\n",
       "    </tr>\n",
       "    <tr>\n",
       "      <th>4</th>\n",
       "      <td>2000-01-07</td>\n",
       "      <td>1.5272</td>\n",
       "      <td>0.9714</td>\n",
       "      <td>0.6104</td>\n",
       "      <td>1.4505</td>\n",
       "      <td>8.2794</td>\n",
       "      <td>43.55</td>\n",
       "      <td>9.52</td>\n",
       "      <td>105.17</td>\n",
       "      <td>1.5623</td>\n",
       "    </tr>\n",
       "  </tbody>\n",
       "</table>\n",
       "</div>"
      ],
      "text/plain": [
       "         DATE AUSTRALIA EURO AREA UNITED KINGDOM  CANADA   CHINA  INDIA  \\\n",
       "0  2000-01-03    1.5172    0.9847         0.6146  1.4465  8.2798  43.55   \n",
       "1  2000-01-04    1.5239      0.97         0.6109  1.4518  8.2799  43.55   \n",
       "2  2000-01-05    1.5267    0.9676         0.6092  1.4518  8.2798  43.55   \n",
       "3  2000-01-06    1.5291    0.9686          0.607  1.4571  8.2797  43.55   \n",
       "4  2000-01-07    1.5272    0.9714         0.6104  1.4505  8.2794  43.55   \n",
       "\n",
       "   MEXICO   JAPAN SWITZERLAND  \n",
       "0  9.4015   101.7      1.5808  \n",
       "1   9.457  103.09      1.5565  \n",
       "2   9.535  103.77      1.5526  \n",
       "3   9.567  105.19       1.554  \n",
       "4    9.52  105.17      1.5623  "
      ]
     },
     "execution_count": 23,
     "metadata": {},
     "output_type": "execute_result"
    }
   ],
   "source": [
    "df = pd.read_csv(\"Foreign_Exchange_Rates.csv\")\n",
    "\n",
    "df = df.drop(columns=[\"Unnamed: 0\", \"NEW ZEALAND - NEW ZELAND DOLLAR/US$\", \"BRAZIL - REAL/US$\", \"HONG KONG - HONG KONG DOLLAR/US$\", \"KOREA - WON/US$\", \"SOUTH AFRICA - RAND/US$\",\"SINGAPORE - SINGAPORE DOLLAR/US$\",\"DENMARK - DANISH KRONE/US$\",\"MALAYSIA - RINGGIT/US$\",\"NORWAY - NORWEGIAN KRONE/US$\",\"SWEDEN - KRONA/US$\",\"SRI LANKA - SRI LANKAN RUPEE/US$\",\"TAIWAN - NEW TAIWAN DOLLAR/US$\",\"THAILAND - BAHT/US$\"])\n",
    "newColumnsNames = list(map(lambda c: c.split(\" - \")[0] if \"-\" in c else \"DATE\", df.columns))\n",
    "newColumnsNames\n",
    "df.columns = newColumnsNames\n",
    "df.head()"
   ]
  },
  {
   "cell_type": "code",
   "execution_count": 19,
   "metadata": {},
   "outputs": [
    {
     "data": {
      "text/plain": [
       "Index(['Unnamed: 0', 'Time Serie', 'AUSTRALIA - AUSTRALIAN DOLLAR/US$',\n",
       "       'EURO AREA - EURO/US$', 'NEW ZEALAND - NEW ZELAND DOLLAR/US$',\n",
       "       'UNITED KINGDOM - UNITED KINGDOM POUND/US$', 'BRAZIL - REAL/US$',\n",
       "       'CANADA - CANADIAN DOLLAR/US$', 'CHINA - YUAN/US$',\n",
       "       'HONG KONG - HONG KONG DOLLAR/US$', 'INDIA - INDIAN RUPEE/US$',\n",
       "       'KOREA - WON/US$', 'MEXICO - MEXICAN PESO/US$',\n",
       "       'SOUTH AFRICA - RAND/US$', 'SINGAPORE - SINGAPORE DOLLAR/US$',\n",
       "       'DENMARK - DANISH KRONE/US$', 'JAPAN - YEN/US$',\n",
       "       'MALAYSIA - RINGGIT/US$', 'NORWAY - NORWEGIAN KRONE/US$',\n",
       "       'SWEDEN - KRONA/US$', 'SRI LANKA - SRI LANKAN RUPEE/US$',\n",
       "       'SWITZERLAND - FRANC/US$', 'TAIWAN - NEW TAIWAN DOLLAR/US$',\n",
       "       'THAILAND - BAHT/US$'],\n",
       "      dtype='object')"
      ]
     },
     "execution_count": 19,
     "metadata": {},
     "output_type": "execute_result"
    }
   ],
   "source": [
    "df.keys()"
   ]
  },
  {
   "cell_type": "code",
   "execution_count": null,
   "metadata": {},
   "outputs": [],
   "source": []
  }
 ],
 "metadata": {
  "kernelspec": {
   "display_name": "Python 3",
   "language": "python",
   "name": "python3"
  },
  "language_info": {
   "codemirror_mode": {
    "name": "ipython",
    "version": 3
   },
   "file_extension": ".py",
   "mimetype": "text/x-python",
   "name": "python",
   "nbconvert_exporter": "python",
   "pygments_lexer": "ipython3",
   "version": "3.7.3"
  }
 },
 "nbformat": 4,
 "nbformat_minor": 2
}
